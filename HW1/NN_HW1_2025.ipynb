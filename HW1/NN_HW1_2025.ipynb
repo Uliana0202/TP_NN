{
 "cells": [
  {
   "cell_type": "markdown",
   "id": "YfPhAJr3jOkh",
   "metadata": {
    "id": "YfPhAJr3jOkh"
   },
   "source": [
    "# HW 1"
   ]
  },
  {
   "cell_type": "code",
   "execution_count": 64,
   "id": "8cc148dc-d83d-4c32-bbb0-3ffd82ba4e98",
   "metadata": {
    "id": "8cc148dc-d83d-4c32-bbb0-3ffd82ba4e98"
   },
   "outputs": [],
   "source": [
    "import numpy as np\n",
    "import pandas as pd\n",
    "import matplotlib.pyplot as plt\n",
    "\n",
    "from sklearn.linear_model import LinearRegression\n",
    "from sklearn.model_selection import train_test_split\n",
    "from sklearn.metrics import r2_score\n",
    "from sklearn.preprocessing import MinMaxScaler\n",
    "\n",
    "%matplotlib inline"
   ]
  },
  {
   "cell_type": "markdown",
   "id": "e3a06e1e-3bc0-4667-84f3-7e86698c3737",
   "metadata": {
    "id": "e3a06e1e-3bc0-4667-84f3-7e86698c3737"
   },
   "source": [
    "# Загружаем выборку Diamonds"
   ]
  },
  {
   "cell_type": "markdown",
   "id": "sI-cvLDCjsua",
   "metadata": {
    "id": "sI-cvLDCjsua"
   },
   "source": [
    "На данной выборке можно проверять работоспособность своего решения"
   ]
  },
  {
   "cell_type": "markdown",
   "id": "c731a143-3dc9-43e7-96f5-b1eff9093345",
   "metadata": {
    "id": "c731a143-3dc9-43e7-96f5-b1eff9093345"
   },
   "source": [
    "1. PRICE: price in US dollars (326-18,823)\n",
    "2. CARAT: weight of the diamond (0.2--5.01)\n",
    "3. CUT: quality of the cut (Fair, Good, Very Good, Premium, Ideal)\n",
    "4. COLOR: diamond colour, from J (worst) to D (best)\n",
    "5. CLARITY: a measurement of how clear the diamond is (I1 (worst), SI2, SI1, VS2, VS1, VVS2, VVS1, IF (best))\n",
    "6. X: length in mm (0--10.74)\n",
    "7. Y: width in mm (0--58.9)\n",
    "8. Z: depth in mm (0--31.8)\n",
    "9. DEPTH: total depth percentage = z / mean(x, y) = 2 * z / (x + y) (43--79)\n",
    "10. TABLE: width of top of diamond relative to widest point (43--95)"
   ]
  },
  {
   "cell_type": "code",
   "execution_count": 65,
   "id": "0f24cf86-653a-422b-9df1-8029fdccf153",
   "metadata": {
    "id": "0f24cf86-653a-422b-9df1-8029fdccf153"
   },
   "outputs": [],
   "source": [
    "diamonds_df = pd.read_csv('diamonds.csv')"
   ]
  },
  {
   "cell_type": "code",
   "execution_count": 66,
   "id": "70d9ccfe-e1cf-4c90-a5ab-40ae0852f1ce",
   "metadata": {
    "colab": {
     "base_uri": "https://localhost:8080/",
     "height": 204
    },
    "id": "70d9ccfe-e1cf-4c90-a5ab-40ae0852f1ce",
    "outputId": "48caecef-fcb9-440b-dd8b-3e4189ff9708"
   },
   "outputs": [
    {
     "data": {
      "text/html": [
       "<div>\n",
       "<style scoped>\n",
       "    .dataframe tbody tr th:only-of-type {\n",
       "        vertical-align: middle;\n",
       "    }\n",
       "\n",
       "    .dataframe tbody tr th {\n",
       "        vertical-align: top;\n",
       "    }\n",
       "\n",
       "    .dataframe thead th {\n",
       "        text-align: right;\n",
       "    }\n",
       "</style>\n",
       "<table border=\"1\" class=\"dataframe\">\n",
       "  <thead>\n",
       "    <tr style=\"text-align: right;\">\n",
       "      <th></th>\n",
       "      <th>Unnamed: 0</th>\n",
       "      <th>carat</th>\n",
       "      <th>cut</th>\n",
       "      <th>color</th>\n",
       "      <th>clarity</th>\n",
       "      <th>depth</th>\n",
       "      <th>table</th>\n",
       "      <th>price</th>\n",
       "      <th>x</th>\n",
       "      <th>y</th>\n",
       "      <th>z</th>\n",
       "    </tr>\n",
       "  </thead>\n",
       "  <tbody>\n",
       "    <tr>\n",
       "      <th>0</th>\n",
       "      <td>1</td>\n",
       "      <td>0.23</td>\n",
       "      <td>Ideal</td>\n",
       "      <td>E</td>\n",
       "      <td>SI2</td>\n",
       "      <td>61.5</td>\n",
       "      <td>55.0</td>\n",
       "      <td>326</td>\n",
       "      <td>3.95</td>\n",
       "      <td>3.98</td>\n",
       "      <td>2.43</td>\n",
       "    </tr>\n",
       "    <tr>\n",
       "      <th>1</th>\n",
       "      <td>2</td>\n",
       "      <td>0.21</td>\n",
       "      <td>Premium</td>\n",
       "      <td>E</td>\n",
       "      <td>SI1</td>\n",
       "      <td>59.8</td>\n",
       "      <td>61.0</td>\n",
       "      <td>326</td>\n",
       "      <td>3.89</td>\n",
       "      <td>3.84</td>\n",
       "      <td>2.31</td>\n",
       "    </tr>\n",
       "    <tr>\n",
       "      <th>2</th>\n",
       "      <td>3</td>\n",
       "      <td>0.23</td>\n",
       "      <td>Good</td>\n",
       "      <td>E</td>\n",
       "      <td>VS1</td>\n",
       "      <td>56.9</td>\n",
       "      <td>65.0</td>\n",
       "      <td>327</td>\n",
       "      <td>4.05</td>\n",
       "      <td>4.07</td>\n",
       "      <td>2.31</td>\n",
       "    </tr>\n",
       "    <tr>\n",
       "      <th>3</th>\n",
       "      <td>4</td>\n",
       "      <td>0.29</td>\n",
       "      <td>Premium</td>\n",
       "      <td>I</td>\n",
       "      <td>VS2</td>\n",
       "      <td>62.4</td>\n",
       "      <td>58.0</td>\n",
       "      <td>334</td>\n",
       "      <td>4.20</td>\n",
       "      <td>4.23</td>\n",
       "      <td>2.63</td>\n",
       "    </tr>\n",
       "    <tr>\n",
       "      <th>4</th>\n",
       "      <td>5</td>\n",
       "      <td>0.31</td>\n",
       "      <td>Good</td>\n",
       "      <td>J</td>\n",
       "      <td>SI2</td>\n",
       "      <td>63.3</td>\n",
       "      <td>58.0</td>\n",
       "      <td>335</td>\n",
       "      <td>4.34</td>\n",
       "      <td>4.35</td>\n",
       "      <td>2.75</td>\n",
       "    </tr>\n",
       "  </tbody>\n",
       "</table>\n",
       "</div>"
      ],
      "text/plain": [
       "   Unnamed: 0  carat      cut color clarity  depth  table  price     x     y  \\\n",
       "0           1   0.23    Ideal     E     SI2   61.5   55.0    326  3.95  3.98   \n",
       "1           2   0.21  Premium     E     SI1   59.8   61.0    326  3.89  3.84   \n",
       "2           3   0.23     Good     E     VS1   56.9   65.0    327  4.05  4.07   \n",
       "3           4   0.29  Premium     I     VS2   62.4   58.0    334  4.20  4.23   \n",
       "4           5   0.31     Good     J     SI2   63.3   58.0    335  4.34  4.35   \n",
       "\n",
       "      z  \n",
       "0  2.43  \n",
       "1  2.31  \n",
       "2  2.31  \n",
       "3  2.63  \n",
       "4  2.75  "
      ]
     },
     "execution_count": 66,
     "metadata": {},
     "output_type": "execute_result"
    }
   ],
   "source": [
    "diamonds_df.head()"
   ]
  },
  {
   "cell_type": "code",
   "execution_count": 67,
   "id": "fad21c95-f542-44ec-8f06-8f57fd42ddef",
   "metadata": {
    "colab": {
     "base_uri": "https://localhost:8080/",
     "height": 430
    },
    "id": "fad21c95-f542-44ec-8f06-8f57fd42ddef",
    "outputId": "cda66a09-590c-45b0-9ed1-1699bfddaaf9"
   },
   "outputs": [
    {
     "data": {
      "image/png": "[encoded data removed]",
      "text/plain": [
       "<Figure size 640x480 with 1 Axes>"
      ]
     },
     "metadata": {},
     "output_type": "display_data"
    }
   ],
   "source": [
    "plt.hist(diamonds_df['price'], bins=100)\n",
    "plt.grid();"
   ]
  },
  {
   "cell_type": "markdown",
   "id": "17ac44bb-86c7-424a-8b9b-0a21bf490683",
   "metadata": {
    "id": "17ac44bb-86c7-424a-8b9b-0a21bf490683"
   },
   "source": [
    "# Подготовка данных"
   ]
  },
  {
   "cell_type": "code",
   "execution_count": 68,
   "id": "e19945ea-cecf-481e-a28b-3f9c11001918",
   "metadata": {
    "id": "e19945ea-cecf-481e-a28b-3f9c11001918"
   },
   "outputs": [],
   "source": [
    "features = ['carat', 'cut', 'color', 'clarity', 'depth', 'table', 'x', 'y', 'z']\n",
    "target = ['price']"
   ]
  },
  {
   "cell_type": "code",
   "execution_count": 69,
   "id": "fbc43eb0-e77f-4765-8b0e-b9052c093855",
   "metadata": {
    "id": "fbc43eb0-e77f-4765-8b0e-b9052c093855"
   },
   "outputs": [],
   "source": [
    "cut_transform = {'Fair': 0, 'Good': 1, 'Very Good': 2, 'Premium': 3, 'Ideal': 4}\n",
    "clarity_transform = {'I1': 0, 'SI2': 1, 'SI1': 2, 'VS2': 3, 'VS1': 4, 'VVS2': 5, 'VVS1': 6, 'IF': 7}\n",
    "color_transorm = {'D': 0, 'E': 1, 'F': 2, 'G': 3, 'H': 4, 'I': 5, 'J': 6}"
   ]
  },
  {
   "cell_type": "code",
   "execution_count": 70,
   "id": "6f82b34f-9ffc-478f-a103-b2cbbca49a94",
   "metadata": {
    "id": "6f82b34f-9ffc-478f-a103-b2cbbca49a94"
   },
   "outputs": [],
   "source": [
    "diamonds_df['cut'] = diamonds_df['cut'].apply(lambda x: cut_transform.get(x))\n",
    "diamonds_df['color'] = diamonds_df['color'].apply(lambda x: color_transorm.get(x))\n",
    "diamonds_df['clarity'] = diamonds_df['clarity'].apply(lambda x: clarity_transform.get(x))"
   ]
  },
  {
   "cell_type": "code",
   "execution_count": 71,
   "id": "8e5fa82b-92ed-4e79-adf2-422204b45e82",
   "metadata": {
    "id": "8e5fa82b-92ed-4e79-adf2-422204b45e82"
   },
   "outputs": [],
   "source": [
    "X = diamonds_df[features].copy().values\n",
    "y = diamonds_df[target].values"
   ]
  },
  {
   "cell_type": "code",
   "execution_count": 72,
   "id": "64c11d68-dc5c-4753-9cc4-3cc4e136f3cb",
   "metadata": {
    "id": "64c11d68-dc5c-4753-9cc4-3cc4e136f3cb"
   },
   "outputs": [],
   "source": [
    "X_train, X_test, y_train, y_test = train_test_split(X, y, random_state=47, test_size=0.3)"
   ]
  },
  {
   "cell_type": "code",
   "execution_count": 73,
   "id": "rGU9tSuwk3Lp",
   "metadata": {
    "id": "rGU9tSuwk3Lp"
   },
   "outputs": [],
   "source": [
    "scaler = MinMaxScaler()\n",
    "X_train = scaler.fit_transform(X_train)\n",
    "X_test = scaler.transform(X_test)"
   ]
  },
  {
   "cell_type": "markdown",
   "id": "3b743ed1-d0cf-485d-b8f2-8c71fc174e8b",
   "metadata": {
    "id": "3b743ed1-d0cf-485d-b8f2-8c71fc174e8b"
   },
   "source": [
    "# Обучаем модель линейной регрессии"
   ]
  },
  {
   "cell_type": "code",
   "execution_count": 74,
   "id": "3N2iJEIuxW0H",
   "metadata": {
    "id": "3N2iJEIuxW0H"
   },
   "outputs": [],
   "source": [
    "reg = LinearRegression().fit(X_train, y_train)"
   ]
  },
  {
   "cell_type": "code",
   "execution_count": 75,
   "id": "f968e336-4049-41b2-81d1-4c24f0969bbb",
   "metadata": {
    "id": "f968e336-4049-41b2-81d1-4c24f0969bbb"
   },
   "outputs": [],
   "source": [
    "y_pred = reg.predict(X_test)"
   ]
  },
  {
   "cell_type": "code",
   "execution_count": 76,
   "id": "0952990a-b3d6-4da4-9cc6-1ab3a7a25ac7",
   "metadata": {
    "id": "0952990a-b3d6-4da4-9cc6-1ab3a7a25ac7"
   },
   "outputs": [],
   "source": [
    "score = r2_score(y_pred, y_test)"
   ]
  },
  {
   "cell_type": "code",
   "execution_count": 77,
   "id": "f89c3bbd-0a3a-48ac-b1ab-b75dc0c5bcce",
   "metadata": {
    "colab": {
     "base_uri": "https://localhost:8080/",
     "height": 452
    },
    "id": "f89c3bbd-0a3a-48ac-b1ab-b75dc0c5bcce",
    "outputId": "587de3bd-b38b-4de9-d156-ac034b9dc075"
   },
   "outputs": [
    {
     "data": {
      "image/png": "[encoded data removed]",
      "text/plain": [
       "<Figure size 640x480 with 1 Axes>"
      ]
     },
     "metadata": {},
     "output_type": "display_data"
    }
   ],
   "source": [
    "plt.title(f'R2: {str(score)[:5]}')\n",
    "plt.hist(y_pred.reshape(1, -1)[0], bins=100, label='PREDICTION')\n",
    "plt.hist(y_test.reshape(1, -1)[0], bins=100, label='GT')\n",
    "plt.legend()\n",
    "plt.grid();"
   ]
  },
  {
   "cell_type": "markdown",
   "id": "6nKJT7VRlIeU",
   "metadata": {
    "id": "6nKJT7VRlIeU"
   },
   "source": [
    "# Задание 1: Реализация Gradient Descent для модели линейной регрессии"
   ]
  },
  {
   "cell_type": "markdown",
   "id": "7UpV6l4clfwC",
   "metadata": {
    "id": "7UpV6l4clfwC"
   },
   "source": [
    "Ниже представлен шаблон кода, который необходимо дополнить, реализовав все указанные методы, и самостоятельно протестировать корректность решения. Можно (и даже нужно) добавлять свои методы для бОльшей читабельности кода\n",
    "\n",
    "Достаточно будет, чтобы код работал для случая, когда X и y - np.ndarray\n",
    "\n",
    "Внутри класса запрещается использовать сторонние библиотеки, кроме numpy"
   ]
  },
  {
   "cell_type": "code",
   "execution_count": 78,
   "id": "ohUWWybdlHYw",
   "metadata": {
    "id": "ohUWWybdlHYw"
   },
   "outputs": [],
   "source": [
    "class LinearRegressorGD:\n",
    "    \"\"\"\n",
    "    Линейная регрессия с использованием Gradient Descent\n",
    "    \"\"\"\n",
    "\n",
    "    def __init__(self, learning_rate=0.01, n_iter=1000):\n",
    "        \"\"\"\n",
    "        Конструктор класса\n",
    "\n",
    "        Параметры:\n",
    "            learning_rate (float): Скорость обучения\n",
    "            n_iter (int): Количество итераций градиентного спуска\n",
    "        \"\"\"\n",
    "        self.learning_rate = learning_rate\n",
    "        self.n_iter = n_iter\n",
    "        self.w = None\n",
    "        self.loss_history_ = []\n",
    "\n",
    "    @staticmethod\n",
    "    def _add_bias(X):\n",
    "        \"\"\"\n",
    "        Добавляет первый столбец из единиц к матрице X.\n",
    "        \"\"\"\n",
    "        if X.ndim == 1:\n",
    "            X = X.reshape(-1, 1)\n",
    "        ones = np.ones((X.shape[0], 1))\n",
    "        return np.hstack([ones, X])\n",
    "\n",
    "    def fit(self, X, y):\n",
    "        \"\"\"\n",
    "        Обучение модели на обучающей выборке с использованием\n",
    "        градиентного спуска\n",
    "\n",
    "        Параметры:\n",
    "            X (np.ndarray): Матрица признаков размера (n_samples, n_features)\n",
    "            y (np.ndarray): Вектор таргета длины n_samples\n",
    "        \"\"\"\n",
    "        X = self._add_bias(X) \n",
    "        y = y.reshape(-1, 1)\n",
    "\n",
    "        n_samples, n_features = X.shape\n",
    "        self.w = np.zeros((n_features, 1))\n",
    "\n",
    "        for _ in range(self.n_iter):\n",
    "            y_pred = X @ self.w\n",
    "            grad = (2 / n_samples) * (X.T @ (y_pred - y))\n",
    "            self.w -= self.learning_rate * grad\n",
    "            self.loss_history_.append(np.mean((y - y_pred) ** 2))\n",
    "\n",
    "    def predict(self, X):\n",
    "        \"\"\"\n",
    "        Получение предсказаний обученной модели\n",
    "\n",
    "        Параметры:\n",
    "            X (np.ndarray): Матрица признаков\n",
    "\n",
    "        Возвращает:\n",
    "            np.ndarray: Предсказание для каждого элемента из X\n",
    "        \"\"\"\n",
    "        X = self._add_bias(X)\n",
    "        return (X @ self.w).ravel()\n",
    "\n",
    "    def get_params(self):\n",
    "        \"\"\"\n",
    "        Возвращает обученные параметры модели\n",
    "        \"\"\"\n",
    "        return {\n",
    "            \"weights\": self.w.flatten(),\n",
    "            \"loss_history\": self.loss_history_\n",
    "        }\n"
   ]
  },
  {
   "cell_type": "code",
   "execution_count": 79,
   "id": "ee88d241-1d45-4e05-8d64-21b40a476014",
   "metadata": {
    "scrolled": true
   },
   "outputs": [
    {
     "name": "stdout",
     "output_type": "stream",
     "text": [
      "LinearRegressorGD MSE train: 8587644.903155483\n",
      "LinearRegressorGD MSE val  : 8546324.396078685\n"
     ]
    }
   ],
   "source": [
    "lin = LinearRegressorGD()\n",
    "lin.fit(X_train, y_train)\n",
    "\n",
    "mse_train = np.mean((y_train.ravel() - lin.predict(X_train))**2)\n",
    "mse_val   = np.mean((y_test.ravel()  - lin.predict(X_test))**2)\n",
    "\n",
    "print(\"LinearRegressorGD MSE train:\", mse_train)\n",
    "print(\"LinearRegressorGD MSE val  :\", mse_val)"
   ]
  },
  {
   "cell_type": "code",
   "execution_count": 80,
   "id": "3c2ffac0-ae98-42cb-9c23-ead9c4132a8a",
   "metadata": {},
   "outputs": [
    {
     "data": {
      "image/png": "[encoded data removed]",
      "text/plain": [
       "<Figure size 640x480 with 1 Axes>"
      ]
     },
     "metadata": {},
     "output_type": "display_data"
    }
   ],
   "source": [
    "plt.plot(lin.loss_history_, label=\"Training loss (MSE)\")\n",
    "plt.xlabel(\"Iteration\")\n",
    "plt.ylabel(\"Loss\")\n",
    "plt.legend()\n",
    "plt.grid()"
   ]
  },
  {
   "cell_type": "markdown",
   "id": "ebkQuLxTpTmF",
   "metadata": {
    "id": "ebkQuLxTpTmF"
   },
   "source": [
    "# Задание 2: Реализация backpropagation для MLP"
   ]
  },
  {
   "cell_type": "markdown",
   "id": "2G7W8JLzpZRf",
   "metadata": {
    "id": "2G7W8JLzpZRf"
   },
   "source": [
    "Ниже представлен шаблон кода, который необходимо дополнить, реализовав все указанные методы, и самостоятельно протестировать корректность решения. Можно (и даже нужно) добавлять свои методы для бОльшей читабельности кода\n",
    "\n",
    "Достаточно будет, чтобы код работал для случая, когда X и y - np.ndarray\n",
    "\n",
    "В качестве функции активации на внутренних слоях нужно использовать Sigmoid, а на выходе - линейную активацию f(x) = x\n",
    "\n",
    "Внутри класса запрещается использовать сторонние библиотеки, кроме numpy"
   ]
  },
  {
   "cell_type": "code",
   "execution_count": 81,
   "id": "mh30KL1jpZr5",
   "metadata": {
    "id": "mh30KL1jpZr5"
   },
   "outputs": [],
   "source": [
    "class MLPRegressor:\n",
    "    \"\"\"\n",
    "    Многослойный перцептрон (MLP) для задачи регрессии, использующий алгоритм\n",
    "    обратного распространения ошибки\n",
    "    \"\"\"\n",
    "\n",
    "    def __init__(self, hidden_layer_sizes=(100,), learning_rate=0.01, n_iter=100):\n",
    "        \"\"\"\n",
    "        Конструктор класса\n",
    "\n",
    "        Параметры:\n",
    "            hidden_layer_sizes (tuple): Кортеж, определяющий архитектуру\n",
    "        скрытых слоев. Например (100, 10) - два скрытых слоя, размером 100 и 10\n",
    "        нейронов, соответственно\n",
    "            learning_rate (float): Скорость обучения\n",
    "            n_iter (int): Количество итераций градиентного спуска\n",
    "        \"\"\"\n",
    "        self.hidden_layer_sizes = hidden_layer_sizes\n",
    "        self.learning_rate = learning_rate\n",
    "        self.n_iter = n_iter\n",
    "\n",
    "        self.weights_ = []\n",
    "        self.biases_ = []\n",
    "        self.loss_history_ = []\n",
    "\n",
    "        self._A = None\n",
    "        self._Z = None\n",
    "        \n",
    "    @staticmethod\n",
    "    def _sigmoid(z):\n",
    "        return 1.0 / (1.0 + np.exp(-z))\n",
    "\n",
    "    @staticmethod\n",
    "    def _sigmoid_derivative(a):\n",
    "        return a * (1.0 - a)\n",
    "        \n",
    "    def _init_params(self, n_features, n_outputs):\n",
    "        \"\"\"Инициализация весов.\"\"\"\n",
    "        layer_sizes = (n_features,) + tuple(self.hidden_layer_sizes) + (n_outputs,)\n",
    "        self.weights_.clear()\n",
    "        self.biases_.clear()\n",
    "        rng = np.random.default_rng()\n",
    "        for fan_in, fan_out in zip(layer_sizes[:-1], layer_sizes[1:]):\n",
    "            W = rng.uniform(low=-0.5, high=0.5, size=(fan_in, fan_out)) * (1.0 / fan_in)\n",
    "            b = np.zeros((1, fan_out))\n",
    "            self.weights_.append(W)\n",
    "            self.biases_.append(b)\n",
    "        \n",
    "    def forward(self, X):\n",
    "        \"\"\"\n",
    "        Реализация forward pass\n",
    "\n",
    "        Параметры:\n",
    "            X (np.ndarray): Матрица признаков размера (n_samples, n_features)\n",
    "\n",
    "        Возвращает:\n",
    "            np.ndarray: Предсказания модели\n",
    "        \"\"\"\n",
    "        if X.ndim == 1:\n",
    "            X = X.reshape(-1, 1)\n",
    "        A = X\n",
    "        self._A = [A]\n",
    "        self._Z = []\n",
    "        L = len(self.weights_)\n",
    "\n",
    "        for l in range(L):\n",
    "            Z = A @ self.weights_[l] + self.biases_[l]\n",
    "            self._Z.append(Z)\n",
    "            if l < L - 1:\n",
    "                A = self._sigmoid(Z)\n",
    "            else:\n",
    "                A = Z             \n",
    "            self._A.append(A)\n",
    "\n",
    "        return A\n",
    "\n",
    "    def backward(self, X, y):\n",
    "        \"\"\"\n",
    "        Реализация backward pass\n",
    "\n",
    "        Возвращает:\n",
    "            X (np.ndarray): Матрица признаков размера (n_samples, n_features)\n",
    "            y (np.ndarray): Вектор таргета длины n_samples\n",
    "        \"\"\"\n",
    "        if X.ndim == 1:\n",
    "            X = X.reshape(-1, 1)\n",
    "        y = y.reshape(-1, 1)\n",
    "\n",
    "        n = X.shape[0]\n",
    "        y_pred = self._A[-1]\n",
    "\n",
    "        dA = (2.0 / n) * (y_pred - y)\n",
    "\n",
    "        L = len(self.weights_)\n",
    "        dW_list = [None] * L\n",
    "        db_list = [None] * L\n",
    "\n",
    "        for l in reversed(range(L)):\n",
    "            if l == L - 1:\n",
    "                dZ = dA\n",
    "            else:\n",
    "                A_l = self._A[l + 1]\n",
    "                dZ = dA * self._sigmoid_derivative(A_l)\n",
    "\n",
    "            dW = self._A[l].T @ dZ                  \n",
    "            db = np.sum(dZ, axis=0, keepdims=True)\n",
    "            dW_list[l] = dW\n",
    "            db_list[l] = db\n",
    "\n",
    "            if l > 0:\n",
    "                dA = dZ @ self.weights_[l].T \n",
    "\n",
    "        lr = self.learning_rate\n",
    "        for l in range(L):\n",
    "            self.weights_[l] -= lr * dW_list[l]\n",
    "            self.biases_[l]  -= lr * db_list[l]\n",
    "\n",
    "        return X, y\n",
    "        \n",
    "    def fit(self, X, y):\n",
    "        \"\"\"\n",
    "        Обучение модели\n",
    "\n",
    "        Параметры:\n",
    "            X (np.ndarray): Матрица признаков размера (n_samples, n_features)\n",
    "            y (np.ndarray): Вектор таргета длины n_samples\n",
    "        \"\"\"\n",
    "        if X.ndim == 1:\n",
    "            X = X.reshape(-1, 1)\n",
    "        y = y.reshape(-1, 1)\n",
    "\n",
    "        self._init_params(X.shape[1], y.shape[1])\n",
    "        \n",
    "        for _ in range(self.n_iter):\n",
    "            y_pred = self.forward(X)\n",
    "            loss = np.mean((y - y_pred) ** 2)\n",
    "            self.loss_history_.append(loss)\n",
    "            self.backward(X, y)\n",
    "\n",
    "    def predict(self, X):\n",
    "        \"\"\"\n",
    "        Получение предсказаний обученной модели\n",
    "\n",
    "        Параметры:\n",
    "            X (np.ndarray): Матрица признаков\n",
    "\n",
    "        Возвращает:\n",
    "            np.ndarray: Предсказание для каждого элемента из X\n",
    "        \"\"\"\n",
    "        return self.forward(X).ravel()\n"
   ]
  },
  {
   "cell_type": "code",
   "execution_count": 84,
   "id": "1ef73f17-9486-4de6-a00f-c1b0ab424285",
   "metadata": {},
   "outputs": [
    {
     "name": "stdout",
     "output_type": "stream",
     "text": [
      "MLPRegressor MSE train: 15923426.455132335\n",
      "MLPRegressor MSE val  : 15897462.586158514\n"
     ]
    }
   ],
   "source": [
    "mlp = MLPRegressor( hidden_layer_sizes=(32, 16), learning_rate=0.005)\n",
    "mlp.fit(X_train, y_train)\n",
    "\n",
    "mse_train = np.mean((y_train.ravel() - mlp.predict(X_train))**2)\n",
    "mse_val   = np.mean((y_test.ravel()  - mlp.predict(X_test))**2)\n",
    "\n",
    "print(\"MLPRegressor MSE train:\", mse_train)\n",
    "print(\"MLPRegressor MSE val  :\", mse_val)"
   ]
  },
  {
   "cell_type": "code",
   "execution_count": 87,
   "id": "facc9c62-fe60-4bba-8ac5-6c9d80521bcf",
   "metadata": {},
   "outputs": [
    {
     "data": {
      "image/png": "[encoded data removed]",
      "text/plain": [
       "<Figure size 640x480 with 1 Axes>"
      ]
     },
     "metadata": {},
     "output_type": "display_data"
    }
   ],
   "source": [
    "plt.plot(mlp.loss_history_, label=\"Training loss (MSE)\")\n",
    "plt.xlabel(\"Iteration\")\n",
    "plt.ylabel(\"Loss\")\n",
    "plt.legend()\n",
    "plt.grid()"
   ]
  }
 ],
 "metadata": {
  "colab": {
   "provenance": []
  },
  "kernelspec": {
   "display_name": "Python 3 (ipykernel)",
   "language": "python",
   "name": "python3"
  },
  "language_info": {
   "codemirror_mode": {
    "name": "ipython",
    "version": 3
   },
   "file_extension": ".py",
   "mimetype": "text/x-python",
   "name": "python",
   "nbconvert_exporter": "python",
   "pygments_lexer": "ipython3",
   "version": "3.10.10"
  }
 },
 "nbformat": 4,
 "nbformat_minor": 5
}
